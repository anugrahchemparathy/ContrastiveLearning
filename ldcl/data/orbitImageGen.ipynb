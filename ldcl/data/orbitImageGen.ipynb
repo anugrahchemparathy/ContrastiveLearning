{
 "cells": [
  {
   "cell_type": "code",
   "execution_count": 1,
   "id": "8a0ae979",
   "metadata": {},
   "outputs": [],
   "source": [
    "import numpy as np\n",
    "import pandas as pd\n",
    "import torch"
   ]
  },
  {
   "cell_type": "code",
   "execution_count": 2,
   "id": "c3387fbb",
   "metadata": {},
   "outputs": [],
   "source": [
    "import matplotlib.pyplot as plt\n",
    "plt.style.use('ggplot')"
   ]
  },
  {
   "cell_type": "code",
   "execution_count": 3,
   "id": "1f6d3333",
   "metadata": {},
   "outputs": [],
   "source": [
    "# from orbit_datasets import neworbits, versatileorbits, staticorbits\n",
    "from ldcl.data import neworbits, neworbits_visual"
   ]
  },
  {
   "cell_type": "code",
   "execution_count": 13,
   "id": "909b3a9c",
   "metadata": {},
   "outputs": [
    {
     "name": "stdout",
     "output_type": "stream",
     "text": [
      "Current dE:  [1.59872116e-14]\n",
      "eccentricity:  [0.98372255]\n",
      "data generation failed.\n",
      "It took 2.61217999458313 time to finish the job.\n",
      "(10240, 100, 2)\n"
     ]
    }
   ],
   "source": [
    "train_orbits_dataset = neworbits_visual.OrbitsDataset(ts_image = 1, image_samples = 10)"
   ]
  },
  {
   "cell_type": "code",
   "execution_count": 15,
   "id": "ec2694d3",
   "metadata": {},
   "outputs": [
    {
     "data": {
      "image/png": "[encoded data removed]",
      "text/plain": [
       "<Figure size 432x288 with 1 Axes>"
      ]
     },
     "metadata": {
      "needs_background": "light"
     },
     "output_type": "display_data"
    },
    {
     "data": {
      "image/png": "[encoded data removed]",
      "text/plain": [
       "<Figure size 432x288 with 1 Axes>"
      ]
     },
     "metadata": {
      "needs_background": "light"
     },
     "output_type": "display_data"
    },
    {
     "data": {
      "image/png": "[encoded data removed]",
      "text/plain": [
       "<Figure size 432x288 with 1 Axes>"
      ]
     },
     "metadata": {
      "needs_background": "light"
     },
     "output_type": "display_data"
    },
    {
     "data": {
      "text/plain": [
       "[(-5.0, 5.0), (-5.0, 5.0)]"
      ]
     },
     "execution_count": 15,
     "metadata": {},
     "output_type": "execute_result"
    }
   ],
   "source": [
    "for orbit_i in range(3):\n",
    "    plt.figure()\n",
    "    plt.scatter(train_orbits_dataset.data[orbit_i,:10,0], train_orbits_dataset.data[orbit_i,:10,1], alpha=.99) # position\n",
    "    plt.scatter(train_orbits_dataset.data[orbit_i,10:20,0], train_orbits_dataset.data[orbit_i,10:20,1], alpha=.6) # position\n",
    "    plt.show()\n",
    "\n",
    "fig.set_size_inches(10, 8, forward=True)\n",
    "ax.set(xlim=(-5, 5), ylim=(-5, 5))"
   ]
  },
  {
   "cell_type": "markdown",
   "id": "9e3d0e58",
   "metadata": {},
   "source": [
    "# lkdjflksj\n"
   ]
  },
  {
   "cell_type": "code",
   "execution_count": 13,
   "id": "e1de5554",
   "metadata": {},
   "outputs": [],
   "source": [
    "rng = np.random.default_rng(8) "
   ]
  },
  {
   "cell_type": "code",
   "execution_count": 14,
   "id": "61d33347",
   "metadata": {},
   "outputs": [],
   "source": [
    "traj_samples = 20\n",
    "batch_size =5"
   ]
  },
  {
   "cell_type": "code",
   "execution_count": 52,
   "id": "0dfc7e4e",
   "metadata": {},
   "outputs": [
    {
     "name": "stdout",
     "output_type": "stream",
     "text": [
      "(5, 20, 10)\n"
     ]
    }
   ],
   "source": [
    "t = rng.uniform(0, 10. * traj_samples, size=(batch_size, traj_samples))\n",
    "t = np.linspace(t, t+3, num = 10, axis = 2)\n",
    "print(t.shape)"
   ]
  },
  {
   "cell_type": "code",
   "execution_count": 53,
   "id": "10563842",
   "metadata": {},
   "outputs": [
    {
     "data": {
      "text/plain": [
       "array([ 89.37275849, 149.17024857, 163.58453593,  10.99451577,\n",
       "       108.84545098, 153.43435257,  77.69441616,  97.48030324,\n",
       "         3.42250585,  36.53046429])"
      ]
     },
     "execution_count": 53,
     "metadata": {},
     "output_type": "execute_result"
    }
   ],
   "source": [
    "t[0,:10,0]"
   ]
  },
  {
   "cell_type": "code",
   "execution_count": 54,
   "id": "5cc02cfd",
   "metadata": {},
   "outputs": [],
   "source": [
    "t = t.reshape(batch_size, traj_samples * 10)"
   ]
  },
  {
   "cell_type": "code",
   "execution_count": 55,
   "id": "fa958eaf",
   "metadata": {},
   "outputs": [
    {
     "data": {
      "text/plain": [
       "(5, 200)"
      ]
     },
     "execution_count": 55,
     "metadata": {},
     "output_type": "execute_result"
    }
   ],
   "source": [
    "t.shape"
   ]
  },
  {
   "cell_type": "code",
   "execution_count": 56,
   "id": "a1aff130",
   "metadata": {},
   "outputs": [
    {
     "data": {
      "text/plain": [
       "array([ 89.37275849,  89.70609183,  90.03942516,  90.37275849,\n",
       "        90.70609183,  91.03942516,  91.37275849,  91.70609183,\n",
       "        92.03942516,  92.37275849, 149.17024857, 149.5035819 ,\n",
       "       149.83691523, 150.17024857, 150.5035819 , 150.83691523,\n",
       "       151.17024857, 151.5035819 , 151.83691523, 152.17024857,\n",
       "       163.58453593, 163.91786927, 164.2512026 , 164.58453593,\n",
       "       164.91786927, 165.2512026 , 165.58453593, 165.91786927,\n",
       "       166.2512026 , 166.58453593,  10.99451577,  11.3278491 ,\n",
       "        11.66118244,  11.99451577,  12.3278491 ,  12.66118244,\n",
       "        12.99451577,  13.3278491 ,  13.66118244,  13.99451577,\n",
       "       108.84545098, 109.17878431, 109.51211765, 109.84545098,\n",
       "       110.17878431, 110.51211765, 110.84545098, 111.17878431,\n",
       "       111.51211765, 111.84545098, 153.43435257, 153.76768591,\n",
       "       154.10101924, 154.43435257, 154.76768591, 155.10101924,\n",
       "       155.43435257, 155.76768591, 156.10101924, 156.43435257,\n",
       "        77.69441616,  78.02774949,  78.36108283,  78.69441616,\n",
       "        79.02774949,  79.36108283,  79.69441616,  80.02774949,\n",
       "        80.36108283,  80.69441616,  97.48030324,  97.81363658,\n",
       "        98.14696991,  98.48030324,  98.81363658,  99.14696991,\n",
       "        99.48030324,  99.81363658, 100.14696991, 100.48030324,\n",
       "         3.42250585,   3.75583919,   4.08917252,   4.42250585,\n",
       "         4.75583919,   5.08917252,   5.42250585,   5.75583919,\n",
       "         6.08917252,   6.42250585,  36.53046429,  36.86379762,\n",
       "        37.19713096,  37.53046429,  37.86379762,  38.19713096,\n",
       "        38.53046429,  38.86379762,  39.19713096,  39.53046429,\n",
       "        29.25394647,  29.58727981,  29.92061314,  30.25394647,\n",
       "        30.58727981,  30.92061314,  31.25394647,  31.58727981,\n",
       "        31.92061314,  32.25394647,  97.50351914,  97.83685248,\n",
       "        98.17018581,  98.50351914,  98.83685248,  99.17018581,\n",
       "        99.50351914,  99.83685248, 100.17018581, 100.50351914,\n",
       "       186.09678854, 186.43012187, 186.7634552 , 187.09678854,\n",
       "       187.43012187, 187.7634552 , 188.09678854, 188.43012187,\n",
       "       188.7634552 , 189.09678854, 122.45142698, 122.78476031,\n",
       "       123.11809365, 123.45142698, 123.78476031, 124.11809365,\n",
       "       124.45142698, 124.78476031, 125.11809365, 125.45142698,\n",
       "       110.32204786, 110.6553812 , 110.98871453, 111.32204786,\n",
       "       111.6553812 , 111.98871453, 112.32204786, 112.6553812 ,\n",
       "       112.98871453, 113.32204786,  62.73414795,  63.06748128,\n",
       "        63.40081461,  63.73414795,  64.06748128,  64.40081461,\n",
       "        64.73414795,  65.06748128,  65.40081461,  65.73414795,\n",
       "        19.99349809,  20.32683142,  20.66016475,  20.99349809,\n",
       "        21.32683142,  21.66016475,  21.99349809,  22.32683142,\n",
       "        22.66016475,  22.99349809,  92.49034875,  92.82368208,\n",
       "        93.15701542,  93.49034875,  93.82368208,  94.15701542,\n",
       "        94.49034875,  94.82368208,  95.15701542,  95.49034875,\n",
       "        95.36452927,  95.69786261,  96.03119594,  96.36452927,\n",
       "        96.69786261,  97.03119594,  97.36452927,  97.69786261,\n",
       "        98.03119594,  98.36452927,  64.62726502,  64.96059835,\n",
       "        65.29393168,  65.62726502,  65.96059835,  66.29393168,\n",
       "        66.62726502,  66.96059835,  67.29393168,  67.62726502])"
      ]
     },
     "execution_count": 56,
     "metadata": {},
     "output_type": "execute_result"
    }
   ],
   "source": [
    "t[0]"
   ]
  },
  {
   "cell_type": "code",
   "execution_count": null,
   "id": "5a9920f1",
   "metadata": {},
   "outputs": [],
   "source": []
  }
 ],
 "metadata": {
  "kernelspec": {
   "display_name": "Python 3 (ipykernel)",
   "language": "python",
   "name": "python3"
  },
  "language_info": {
   "codemirror_mode": {
    "name": "ipython",
    "version": 3
   },
   "file_extension": ".py",
   "mimetype": "text/x-python",
   "name": "python",
   "nbconvert_exporter": "python",
   "pygments_lexer": "ipython3",
   "version": "3.10.8"
  }
 },
 "nbformat": 4,
 "nbformat_minor": 5
}
