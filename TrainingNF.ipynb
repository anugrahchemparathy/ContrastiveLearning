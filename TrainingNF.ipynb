{
 "cells": [
  {
   "cell_type": "code",
   "execution_count": 1,
   "metadata": {},
   "outputs": [],
   "source": [
    "import numpy as np\n",
    "import pandas as pd\n",
    "import matplotlib.pyplot as plt\n",
    "import torch\n",
    "from tqdm import tqdm\n",
    "\n",
    "\n",
    "plt.style.use('ggplot')"
   ]
  },
  {
   "cell_type": "code",
   "execution_count": 2,
   "metadata": {},
   "outputs": [],
   "source": [
    "from versatileorbits import *\n",
    "import masks"
   ]
  },
  {
   "cell_type": "code",
   "execution_count": 3,
   "metadata": {},
   "outputs": [],
   "source": [
    "import torch\n",
    "import torch.nn as nn\n",
    "import torch.nn.functional as F\n",
    "from torch.distributions.multivariate_normal import MultivariateNormal"
   ]
  },
  {
   "cell_type": "code",
   "execution_count": 4,
   "metadata": {},
   "outputs": [],
   "source": [
    "import torch\n",
    "import torch.nn as nn\n",
    "import torch.nn.functional as F\n",
    "from torch.distributions.multivariate_normal import MultivariateNormal\n",
    "\n",
    "\n",
    "from RealNVP_layer import RealNVP_Layer\n",
    "import masks\n",
    "\n",
    "class RealNVP(nn.Module):\n",
    "    def __init__(self, input_output_size, hidden_size=12, num_layers = 3):\n",
    "        super(RealNVP, self).__init__()\n",
    "\n",
    "        self.input_output_size = input_output_size\n",
    "        self.hidden_size = hidden_size\n",
    "        self.num_layers = num_layers\n",
    "\n",
    "        #save masks in a parameterlist so they can be saved with the model for reference\n",
    "        self.masks = nn.ParameterList([nn.Parameter(torch.Tensor(mask), requires_grad=False) for mask in masks.mask2(self.input_output_size, self.num_layers)])\n",
    "\n",
    "        self.layers = nn.ModuleList([RealNVP_Layer(mask,self.input_output_size,self.hidden_size) for mask in self.masks])\n",
    "\n",
    "\n",
    "        self.normal_distribution = MultivariateNormal(torch.zeros(self.input_output_size), torch.eye(self.input_output_size))\n",
    "\n",
    "    def forward(self, x):\n",
    "        output = x\n",
    "        log_probability = 0\n",
    "        for layer in self.layers:\n",
    "            output, log_det_jacobian = layer(output)\n",
    "            log_probability += log_det_jacobian\n",
    "        \n",
    "\n",
    "        return output, log_probability\n",
    "\n",
    "    def forward_sample(self, num_samples):\n",
    "        inputs = self.normal_distribution.sample((num_samples,))\n",
    "        log_probability = self.normal_distribution.log_prob(inputs)\n",
    "\n",
    "        outputs = inputs\n",
    "        for layer in self.layers:\n",
    "            outputs, log_det_jacobian = layer(outputs)\n",
    "            log_probability += log_det_jacobian\n",
    "        \n",
    "\n",
    "        return outputs, log_probability\n",
    "\n",
    "    def log_probability(self, y):\n",
    "        \"\"\"\n",
    "        param y: (batch_size, input_output_size) array\n",
    "        \"\"\"\n",
    "        batch_size, _ = y.shape\n",
    "        log_probability = torch.zeros(batch_size)\n",
    "\n",
    "        for layer in reversed(self.layers):\n",
    "            #print(\"layer, new y =\", y[:5])\n",
    "            y, inverse_log_det_jacobian = layer.inverse(y)\n",
    "            log_probability += inverse_log_det_jacobian\n",
    "        \n",
    "        log_probability += self.normal_distribution.log_prob(y)\n",
    "\n",
    "        return log_probability"
   ]
  },
  {
   "cell_type": "code",
   "execution_count": 5,
   "metadata": {},
   "outputs": [],
   "source": [
    "def train(model, num_epochs = 100, batch_size = 64):\n",
    "    NF_dataset = OrbitsDataset_NF_train(num_samples = 1000, phi0 = 1, H = -0.3, L = 0.5)\n",
    "    train_loader = torch.utils.data.DataLoader(NF_dataset, batch_size=batch_size)\n",
    "    optimizer = torch.optim.Adam(model.parameters())\n",
    "    \n",
    "    losses = []\n",
    "    for epoch in tqdm(range(num_epochs)):    \n",
    "        epoch_loss = 0\n",
    "        for orbit_position in train_loader:\n",
    "            log_probability = model.log_probability(orbit_position) #(batch_size)\n",
    "            loss = - torch.mean(log_probability, dim = 0)\n",
    "            \n",
    "            \n",
    "            loss.backward()\n",
    "            optimizer.step()\n",
    "            model.zero_grad()\n",
    "            \n",
    "            epoch_loss += loss\n",
    "            \n",
    "        \n",
    "        epoch_loss /= len(train_loader)\n",
    "        losses.append(epoch_loss.detach())\n",
    "    \n",
    "    return model, losses\n"
   ]
  },
  {
   "cell_type": "code",
   "execution_count": 8,
   "metadata": {},
   "outputs": [
    {
     "name": "stderr",
     "output_type": "stream",
     "text": [
      "100%|██████████| 100/100 [00:08<00:00, 11.26it/s]\n"
     ]
    }
   ],
   "source": [
    "#model = RealNVP(masks_nf, hidden_size)\n",
    "model = RealNVP(input_output_size = 4, hidden_size = 32)\n",
    "\n",
    "model, losses = train(model, num_epochs = 100)"
   ]
  },
  {
   "cell_type": "code",
   "execution_count": 9,
   "metadata": {},
   "outputs": [
    {
     "name": "stdout",
     "output_type": "stream",
     "text": [
      "[7.239345550537109, 6.08982515335083, 5.384230136871338, 4.719488620758057, 4.0787034034729, 3.3712711334228516, 2.4376273155212402, 1.7165324687957764, 1.4027608633041382, 1.1697571277618408, 0.9976499080657959, 0.829043447971344, 0.6672244071960449, 0.5105165243148804, 0.393085777759552, 0.3107093274593353, 0.24815785884857178, 0.18740510940551758, 0.13615530729293823, 0.09129209071397781, 0.0475773960351944, 0.009217940270900726, -0.019342321902513504, -0.04836523160338402, -0.07677300274372101, -0.10402199625968933, -0.1278548538684845, -0.14384618401527405, -0.16646260023117065, -0.18402084708213806, -0.19279596209526062, -0.20495909452438354, -0.21886441111564636, -0.22286200523376465, -0.2290320098400116, -0.2333429753780365, -0.23726093769073486, -0.24730370938777924, -0.2571154236793518, -0.2624439597129822, -0.27317380905151367, -0.28379935026168823, -0.29500097036361694, -0.3067329525947571, -0.31953296065330505, -0.32808077335357666, -0.3372946083545685, -0.3420325517654419, -0.3459806442260742, -0.35290107131004333, -0.3588995635509491, -0.36502769589424133, -0.36900708079338074, -0.3747105002403259, -0.37940719723701477, -0.3850598931312561, -0.38986995816230774, -0.3964236080646515, -0.3998681604862213, -0.40532833337783813, -0.41102921962738037, -0.41534554958343506, -0.41948166489601135, -0.4233417212963104, -0.42453399300575256, -0.4289246201515198, -0.4329172670841217, -0.43840256333351135, -0.4414791762828827, -0.4446799159049988, -0.4473395347595215, -0.44975876808166504, -0.452716588973999, -0.454576313495636, -0.45778965950012207, -0.4596739113330841, -0.4622819423675537, -0.4620853662490845, -0.46243733167648315, -0.4671401381492615, -0.469048410654068, -0.46996158361434937, -0.4716093838214874, -0.47235172986984253, -0.4708506762981415, -0.47339677810668945, -0.4723387062549591, -0.47141340374946594, -0.47178545594215393, -0.4714968502521515, -0.470621258020401, -0.4624110162258148, -0.4571377635002136, -0.4485616385936737, -0.44232842326164246, -0.4516870975494385, -0.4780673384666443, -0.4973191022872925, -0.5053966641426086, -0.5089007616043091]\n"
     ]
    }
   ],
   "source": [
    "print([loss.item() for loss in losses])"
   ]
  },
  {
   "cell_type": "code",
   "execution_count": 10,
   "metadata": {},
   "outputs": [],
   "source": [
    "outputs, log_probability = model.forward_sample(500)"
   ]
  },
  {
   "cell_type": "code",
   "execution_count": 13,
   "metadata": {},
   "outputs": [
    {
     "name": "stdout",
     "output_type": "stream",
     "text": [
      "torch.Size([100, 4])\n",
      "tensor([-14.7182, -11.3790, -10.4658, -12.7468, -11.3740],\n",
      "       grad_fn=<SliceBackward0>)\n",
      "tensor([[-1.9147, -2.8865,  0.0868,  0.1652],\n",
      "        [-1.7777, -2.6226, -0.0408, -0.0259],\n",
      "        [-0.8403, -2.3678,  0.2861,  0.3618],\n",
      "        [-1.8159, -2.3607, -0.1924, -0.1335],\n",
      "        [-1.6503, -1.2520, -0.1789, -0.5192]], grad_fn=<SliceBackward0>)\n"
     ]
    }
   ],
   "source": [
    "print(outputs.shape)\n",
    "print(log_probability[:5])\n",
    "print(outputs[:5])"
   ]
  },
  {
   "cell_type": "code",
   "execution_count": 11,
   "metadata": {},
   "outputs": [],
   "source": [
    "detached_outputs = outputs.detach().numpy()"
   ]
  },
  {
   "cell_type": "code",
   "execution_count": 12,
   "metadata": {},
   "outputs": [],
   "source": [
    "torch.save(detached_outputs, 'storedTensors/detached_outputs_500.pt')"
   ]
  },
  {
   "cell_type": "code",
   "execution_count": 4,
   "metadata": {},
   "outputs": [],
   "source": [
    "detached_outputs_load = torch.load('storedTensors/detached_outputs_500.pt')"
   ]
  },
  {
   "cell_type": "code",
   "execution_count": 5,
   "metadata": {},
   "outputs": [
    {
     "name": "stdout",
     "output_type": "stream",
     "text": [
      "[-1.7415824  -1.4016299  -0.99098194 -1.5554066  -0.4730807 ]\n"
     ]
    }
   ],
   "source": [
    "print(detached_outputs_load[:5,0])"
   ]
  },
  {
   "cell_type": "code",
   "execution_count": 8,
   "metadata": {},
   "outputs": [
    {
     "data": {
      "text/plain": [
       "[(-5, 5), (-5, 5)]"
      ]
     },
     "execution_count": 8,
     "metadata": {},
     "output_type": "execute_result"
    },
    {
     "data": {
      "image/png": "[encoded data removed]",
      "text/plain": [
       "<Figure size 432x288 with 1 Axes>"
      ]
     },
     "metadata": {},
     "output_type": "display_data"
    }
   ],
   "source": [
    "fig, ax = plt.subplots()\n",
    "ax.scatter(detached_outputs_load[:,0], detached_outputs_load[:,1], alpha=.05, c='red')\n",
    "ax.set(xlim=(-5, 5), ylim=(-5, 5))"
   ]
  },
  {
   "cell_type": "code",
   "execution_count": 7,
   "metadata": {},
   "outputs": [
    {
     "data": {
      "text/plain": [
       "[(-5, 5), (-5, 5)]"
      ]
     },
     "execution_count": 7,
     "metadata": {},
     "output_type": "execute_result"
    },
    {
     "data": {
      "image/png": "[encoded data removed]",
      "text/plain": [
       "<Figure size 432x288 with 1 Axes>"
      ]
     },
     "metadata": {},
     "output_type": "display_data"
    }
   ],
   "source": [
    "fig, ax = plt.subplots()\n",
    "train_dataset = OrbitsDataset_NF_train(num_samples = 1000, H = -0.3, L = 0.5, phi0 = 1)   \n",
    "ax.scatter(train_dataset.data[:,0], train_dataset.data[:,1], alpha=.05, c='red')\n",
    "ax.set(xlim=(-5, 5), ylim=(-5, 5))"
   ]
  },
  {
   "cell_type": "code",
   "execution_count": null,
   "metadata": {},
   "outputs": [],
   "source": []
  }
 ],
 "metadata": {
  "kernelspec": {
   "display_name": "Python 3",
   "language": "python",
   "name": "python3"
  },
  "language_info": {
   "codemirror_mode": {
    "name": "ipython",
    "version": 3
   },
   "file_extension": ".py",
   "mimetype": "text/x-python",
   "name": "python",
   "nbconvert_exporter": "python",
   "pygments_lexer": "ipython3",
   "version": "3.7.6"
  }
 },
 "nbformat": 4,
 "nbformat_minor": 4
}
