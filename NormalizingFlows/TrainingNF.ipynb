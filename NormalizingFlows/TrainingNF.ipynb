{
 "cells": [
  {
   "cell_type": "code",
   "execution_count": 1,
   "metadata": {},
   "outputs": [],
   "source": [
    "import numpy as np\n",
    "import pandas as pd\n",
    "import matplotlib.pyplot as plt\n",
    "import torch\n",
    "from tqdm import tqdm\n",
    "\n",
    "\n",
    "plt.style.use('ggplot')"
   ]
  },
  {
   "cell_type": "code",
   "execution_count": 2,
   "metadata": {},
   "outputs": [],
   "source": [
    "from versatileorbits import *\n",
    "import masks"
   ]
  },
  {
   "cell_type": "code",
   "execution_count": 3,
   "metadata": {},
   "outputs": [],
   "source": [
    "import torch\n",
    "import torch.nn as nn\n",
    "import torch.nn.functional as F\n",
    "from torch.distributions.multivariate_normal import MultivariateNormal"
   ]
  },
  {
   "cell_type": "code",
   "execution_count": 4,
   "metadata": {},
   "outputs": [],
   "source": [
    "import torch\n",
    "import torch.nn as nn\n",
    "import torch.nn.functional as F\n",
    "from torch.distributions.multivariate_normal import MultivariateNormal\n",
    "\n",
    "\n",
    "from RealNVP_layer import RealNVP_Layer\n",
    "import masks\n",
    "\n",
    "class RealNVP(nn.Module):\n",
    "    def __init__(self, input_output_size, hidden_size=12, num_layers = 3):\n",
    "        super(RealNVP, self).__init__()\n",
    "\n",
    "        self.input_output_size = input_output_size\n",
    "        self.hidden_size = hidden_size\n",
    "        self.num_layers = num_layers\n",
    "\n",
    "        #save masks in a parameterlist so they can be saved with the model for reference\n",
    "        self.masks = nn.ParameterList([nn.Parameter(torch.Tensor(mask), requires_grad=False) for mask in masks.mask2(self.input_output_size, self.num_layers)])\n",
    "\n",
    "        self.layers = nn.ModuleList([RealNVP_Layer(mask,self.input_output_size,self.hidden_size) for mask in self.masks])\n",
    "\n",
    "\n",
    "        self.normal_distribution = MultivariateNormal(torch.zeros(self.input_output_size), torch.eye(self.input_output_size))\n",
    "\n",
    "    def forward(self, x):\n",
    "        output = x\n",
    "        log_probability = 0\n",
    "        for layer in self.layers:\n",
    "            output, log_det_jacobian = layer(output)\n",
    "            log_probability += log_det_jacobian\n",
    "        \n",
    "\n",
    "        return output, log_probability\n",
    "\n",
    "    def forward_sample(self, num_samples):\n",
    "        inputs = self.normal_distribution.sample((num_samples,))\n",
    "        log_probability = self.normal_distribution.log_prob(inputs)\n",
    "\n",
    "        outputs = inputs\n",
    "        for layer in self.layers:\n",
    "            outputs, log_det_jacobian = layer(outputs)\n",
    "            log_probability += log_det_jacobian\n",
    "        \n",
    "\n",
    "        return outputs, log_probability\n",
    "\n",
    "    def log_probability(self, y):\n",
    "        \"\"\"\n",
    "        param y: (batch_size, input_output_size) array\n",
    "        \"\"\"\n",
    "        batch_size, _ = y.shape\n",
    "        log_probability = torch.zeros(batch_size)\n",
    "\n",
    "        for layer in reversed(self.layers):\n",
    "            #print(\"layer, new y =\", y[:5])\n",
    "            y, inverse_log_det_jacobian = layer.inverse(y)\n",
    "            log_probability += inverse_log_det_jacobian\n",
    "        \n",
    "        log_probability += self.normal_distribution.log_prob(y)\n",
    "\n",
    "        return log_probability"
   ]
  },
  {
   "cell_type": "code",
   "execution_count": 6,
   "metadata": {},
   "outputs": [],
   "source": [
    "def train(model, num_epochs = 100, batch_size = 64):\n",
    "    NF_dataset = OrbitsDataset_NF_train(num_samples = 1000, phi0 = 1, H = -0.3, L = 0.5)\n",
    "    train_loader = torch.utils.data.DataLoader(NF_dataset, batch_size=batch_size)\n",
    "    optimizer = torch.optim.Adam(model.parameters())\n",
    "    \n",
    "    losses = []\n",
    "    for epoch in tqdm(range(num_epochs)):    \n",
    "        epoch_loss = 0\n",
    "        for orbit_position in train_loader:\n",
    "            log_probability = model.log_probability(orbit_position) #(batch_size)\n",
    "            loss = - torch.mean(log_probability, dim = 0)\n",
    "            \n",
    "            \n",
    "            loss.backward()\n",
    "            optimizer.step()\n",
    "            model.zero_grad()\n",
    "            \n",
    "            epoch_loss += loss\n",
    "            \n",
    "        \n",
    "        epoch_loss /= len(train_loader)\n",
    "        losses.append(epoch_loss.detach())\n",
    "    \n",
    "    return model, losses\n"
   ]
  },
  {
   "cell_type": "code",
   "execution_count": 8,
   "metadata": {},
   "outputs": [
    {
     "name": "stderr",
     "output_type": "stream",
     "text": [
      "100%|██████████| 100/100 [00:02<00:00, 36.69it/s]\n"
     ]
    }
   ],
   "source": [
    "#model = RealNVP(masks_nf, hidden_size)\n",
    "model = RealNVP(input_output_size = 4, hidden_size = 32)\n",
    "\n",
    "model, losses = train(model, num_epochs = 100)"
   ]
  },
  {
   "cell_type": "code",
   "execution_count": 9,
   "metadata": {},
   "outputs": [
    {
     "name": "stdout",
     "output_type": "stream",
     "text": [
      "[6.989358901977539, 6.051713943481445, 5.365544319152832, 4.663014888763428, 3.9016706943511963, 3.076193332672119, 2.2577383518218994, 1.5617374181747437, 1.2027291059494019, 1.0087864398956299, 0.8737899661064148, 0.7424572110176086, 0.5967315435409546, 0.43295609951019287, 0.29525139927864075, 0.17961055040359497, 0.13903173804283142, 0.04372170567512512, 0.020449882373213768, -0.056938737630844116, -0.123724564909935, -0.17157375812530518, -0.2021806389093399, -0.23604750633239746, -0.2582766115665436, -0.282436341047287, -0.307792067527771, -0.32836341857910156, -0.34012967348098755, -0.35507437586784363, -0.37501466274261475, -0.39076727628707886, -0.39293351769447327, -0.40155795216560364, -0.41875651478767395, -0.4267158806324005, -0.41701826453208923, -0.407985657453537, -0.44337981939315796, -0.4670054018497467, -0.4581134617328644, -0.4517025947570801, -0.4555166959762573, -0.4726703464984894, -0.4933532774448395, -0.49720457196235657, -0.4893137514591217, -0.48626619577407837, -0.48148664832115173, -0.49059924483299255, -0.5099808573722839, -0.5224234461784363, -0.5260564088821411, -0.5169203281402588, -0.5093435049057007, -0.5149415731430054, -0.525725781917572, -0.5372703671455383, -0.5416760444641113, -0.5440860390663147, -0.5398894548416138, -0.5386151075363159, -0.5353193283081055, -0.5423389673233032, -0.5486088991165161, -0.5571140646934509, -0.5590577125549316, -0.5622604489326477, -0.565909206867218, -0.5663151144981384, -0.5588192343711853, -0.5560896396636963, -0.5584381818771362, -0.5751641988754272, -0.5843055248260498, -0.5868805646896362, -0.5841700434684753, -0.5781263113021851, -0.574386715888977, -0.5794259905815125, -0.5828839540481567, -0.5907080769538879, -0.5956853032112122, -0.5949326753616333, -0.6032620072364807, -0.6047993302345276, -0.6058906316757202, -0.6024790406227112, -0.5957428812980652, -0.5931540131568909, -0.5957664251327515, -0.6049347519874573, -0.6061990857124329, -0.6184844970703125, -0.6180099248886108, -0.6194245219230652, -0.6193711161613464, -0.6115080714225769, -0.6059508919715881, -0.6175170540809631]\n"
     ]
    }
   ],
   "source": [
    "print([loss.item() for loss in losses])"
   ]
  },
  {
   "cell_type": "code",
   "execution_count": 10,
   "metadata": {},
   "outputs": [],
   "source": [
    "outputs, log_probability = model.forward_sample(500)"
   ]
  },
  {
   "cell_type": "code",
   "execution_count": 11,
   "metadata": {},
   "outputs": [
    {
     "name": "stdout",
     "output_type": "stream",
     "text": [
      "torch.Size([500, 4])\n",
      "tensor([-11.9102, -11.2177, -13.8147, -10.2402,  -8.8962],\n",
      "       grad_fn=<SliceBackward0>)\n",
      "tensor([[-0.4425,  0.3991, -2.8871, -1.0242],\n",
      "        [-1.1073, -2.4851,  0.3312,  0.1624],\n",
      "        [-1.3780, -2.7069,  0.2199,  0.2300],\n",
      "        [-1.5227, -2.7622,  0.1163, -0.1387],\n",
      "        [ 0.2128, -0.7795,  0.3794,  1.4070]], grad_fn=<SliceBackward0>)\n"
     ]
    }
   ],
   "source": [
    "print(outputs.shape)\n",
    "print(log_probability[:5])\n",
    "print(outputs[:5])"
   ]
  },
  {
   "cell_type": "code",
   "execution_count": 12,
   "metadata": {},
   "outputs": [],
   "source": [
    "detached_outputs = outputs.detach().numpy()"
   ]
  },
  {
   "cell_type": "code",
   "execution_count": 16,
   "metadata": {},
   "outputs": [],
   "source": [
    "torch.save(detached_outputs, 'storedTensors/detached_outputs_500.pt')"
   ]
  },
  {
   "cell_type": "code",
   "execution_count": 17,
   "metadata": {},
   "outputs": [],
   "source": [
    "detached_outputs_load = torch.load('storedTensors/detached_outputs_500.pt')"
   ]
  },
  {
   "cell_type": "code",
   "execution_count": 18,
   "metadata": {},
   "outputs": [
    {
     "name": "stdout",
     "output_type": "stream",
     "text": [
      "[-0.44252557 -1.1072668  -1.3780439  -1.5226684   0.2128189 ]\n"
     ]
    }
   ],
   "source": [
    "print(detached_outputs_load[:5,0])"
   ]
  },
  {
   "cell_type": "code",
   "execution_count": 19,
   "metadata": {},
   "outputs": [
    {
     "data": {
      "text/plain": [
       "[(-5.0, 5.0), (-5.0, 5.0)]"
      ]
     },
     "execution_count": 19,
     "metadata": {},
     "output_type": "execute_result"
    },
    {
     "data": {
      "image/png": "[encoded data removed]",
      "text/plain": [
       "<Figure size 432x288 with 1 Axes>"
      ]
     },
     "metadata": {
      "needs_background": "light"
     },
     "output_type": "display_data"
    }
   ],
   "source": [
    "fig, ax = plt.subplots()\n",
    "ax.scatter(detached_outputs_load[:,0], detached_outputs_load[:,1], alpha=.05, c='red')\n",
    "ax.set(xlim=(-5, 5), ylim=(-5, 5))"
   ]
  },
  {
   "cell_type": "code",
   "execution_count": 20,
   "metadata": {},
   "outputs": [
    {
     "data": {
      "text/plain": [
       "[(-5.0, 5.0), (-5.0, 5.0)]"
      ]
     },
     "execution_count": 20,
     "metadata": {},
     "output_type": "execute_result"
    },
    {
     "data": {
      "image/png": "[encoded data removed]",
      "text/plain": [
       "<Figure size 432x288 with 1 Axes>"
      ]
     },
     "metadata": {
      "needs_background": "light"
     },
     "output_type": "display_data"
    }
   ],
   "source": [
    "fig, ax = plt.subplots()\n",
    "train_dataset = OrbitsDataset_NF_train(num_samples = 1000, H = -0.3, L = 0.5, phi0 = 1)   \n",
    "ax.scatter(train_dataset.data[:,0], train_dataset.data[:,1], alpha=.05, c='red')\n",
    "ax.set(xlim=(-5, 5), ylim=(-5, 5))"
   ]
  },
  {
   "cell_type": "code",
   "execution_count": null,
   "metadata": {},
   "outputs": [],
   "source": []
  }
 ],
 "metadata": {
  "kernelspec": {
   "display_name": "Python 3.10.4 64-bit",
   "language": "python",
   "name": "python3"
  },
  "language_info": {
   "codemirror_mode": {
    "name": "ipython",
    "version": 3
   },
   "file_extension": ".py",
   "mimetype": "text/x-python",
   "name": "python",
   "nbconvert_exporter": "python",
   "pygments_lexer": "ipython3",
   "version": "3.10.4"
  },
  "vscode": {
   "interpreter": {
    "hash": "aee8b7b246df8f9039afb4144a1f6fd8d2ca17a180786b69acc140d282b71a49"
   }
  }
 },
 "nbformat": 4,
 "nbformat_minor": 4
}
