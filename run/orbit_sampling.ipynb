{
 "cells": [
  {
   "cell_type": "code",
   "execution_count": 2,
   "metadata": {},
   "outputs": [],
   "source": [
    "import numpy as np\n",
    "import torch"
   ]
  },
  {
   "cell_type": "code",
   "execution_count": 3,
   "metadata": {},
   "outputs": [],
   "source": [
    "from pathlib import Path"
   ]
  },
  {
   "cell_type": "code",
   "execution_count": 4,
   "metadata": {},
   "outputs": [],
   "source": [
    "import os"
   ]
  },
  {
   "cell_type": "code",
   "execution_count": 5,
   "metadata": {},
   "outputs": [],
   "source": [
    "from sklearn.linear_model import Ridge, LinearRegression, Lasso\n",
    "from sklearn.svm import SVR\n",
    "from sklearn.kernel_ridge import KernelRidge\n",
    "from sklearn.neighbors import NearestNeighbors"
   ]
  },
  {
   "cell_type": "code",
   "execution_count": 6,
   "metadata": {},
   "outputs": [],
   "source": [
    "import matplotlib.pyplot as plt\n",
    "plt.style.use('ggplot')\n",
    "\n",
    "# https://plotly.com/python/creating-and-updating-figures/\n",
    "import plotly.graph_objects as go\n",
    "\n",
    "from mpl_toolkits import mplot3d"
   ]
  },
  {
   "cell_type": "code",
   "execution_count": 7,
   "metadata": {},
   "outputs": [],
   "source": [
    "import sys\n",
    "#sys.path.append('../') # now can access entire repository, (important when running locally)\n",
    "\n",
    "# from orbit_datasets import neworbits, versatileorbits, staticorbits\n",
    "from ldcl.data import neworbits, versatileorbits, staticorbits"
   ]
  },
  {
   "cell_type": "code",
   "execution_count": 8,
   "metadata": {},
   "outputs": [],
   "source": [
    "from ldcl.data import physics"
   ]
  },
  {
   "cell_type": "code",
   "execution_count": 9,
   "metadata": {},
   "outputs": [
    {
     "name": "stdout",
     "output_type": "stream",
     "text": [
      "..\\saved_datasets\\20221213-4\\\n"
     ]
    }
   ],
   "source": [
    "train_orbits_dataset, folder = physics.get_dataset(\"variance_orbit_config.json\", \"../saved_datasets\")\n",
    "print(folder)"
   ]
  },
  {
   "cell_type": "code",
   "execution_count": 10,
   "metadata": {},
   "outputs": [
    {
     "data": {
      "text/plain": [
       "(1000, 10, 4)"
      ]
     },
     "execution_count": 10,
     "metadata": {},
     "output_type": "execute_result"
    }
   ],
   "source": [
    "train_orbits_dataset.data.shape"
   ]
  },
  {
   "cell_type": "code",
   "execution_count": 11,
   "metadata": {},
   "outputs": [],
   "source": [
    "#orbits_dataset = neworbits.OrbitsDataset()\n",
    "orbits_loader = torch.utils.data.DataLoader(\n",
    "    dataset = train_orbits_dataset,\n",
    "    shuffle = True,\n",
    "    batch_size = 1,\n",
    ")"
   ]
  },
  {
   "cell_type": "code",
   "execution_count": 12,
   "metadata": {},
   "outputs": [],
   "source": [
    "def getRepresentations(encoder_location):\n",
    "    branch_encoder = torch.load(encoder_location, map_location=torch.device('cpu'))\n",
    "    branch_encoder.eval()\n",
    "    \n",
    "    encoder_outputs_list = []\n",
    "    target_values = []\n",
    "\n",
    "    for it, (input1, input2, y) in enumerate(orbits_loader):\n",
    "        predicted_representation = branch_encoder(input1.float()).detach().numpy()[0]\n",
    "        encoder_outputs_list.append(predicted_representation)\n",
    "\n",
    "        #append conserved quantities to the end of the representation for plotting, y = (1, )\n",
    "        #[2=phi0,3=energy,4=angular_momentum] discard [0=eccentricity, 1=semimajor_axis]\n",
    "        target_values.append(np.array([y['phi0'].detach().numpy().flatten()[0],\n",
    "                                       y['H'].detach().numpy().flatten()[0],\n",
    "                                       y['L'].detach().numpy().flatten()[0]\n",
    "                                      ]))\n",
    "    encoder_outputs = np.vstack(encoder_outputs_list)\n",
    "    target_values = np.vstack(target_values)\n",
    "\n",
    "    phi0_c_values = target_values[:,0]\n",
    "    energy_c_values = target_values[:,1]\n",
    "    angular_momentum_c_values = target_values[:,2]\n",
    "    \n",
    "    return encoder_outputs, [phi0_c_values, energy_c_values, angular_momentum_c_values]"
   ]
  },
  {
   "cell_type": "code",
   "execution_count": 17,
   "metadata": {},
   "outputs": [],
   "source": [
    "ENCODER_PATH = Path(\"saved_models/rmseNCE_3D/final_encoder.pt\")\n",
    "encoder_outputs, conserved_quantities = getRepresentations(ENCODER_PATH)\n",
    "annotations = [f'phi_0: {p:.3f}, H: {h:.3f}, L: {l:.3f}' for (p,h,l) in zip(*conserved_quantities)]\n",
    "#print(annotations)\n",
    "#print(len(conserved_quantities))"
   ]
  },
  {
   "cell_type": "code",
   "execution_count": 43,
   "metadata": {},
   "outputs": [],
   "source": [
    "def getAllReps(encoder_location, data):\n",
    "    branch_encoder = torch.load(encoder_location, map_location=torch.device('cpu'))\n",
    "    branch_encoder.eval()\n",
    "    \n",
    "    rep_list = []\n",
    "    \n",
    "    for orbit in data:\n",
    "        #print(orbit.shape)\n",
    "        predicted = branch_encoder(torch.from_numpy(orbit).float()).detach().numpy()\n",
    "        rep_list.append(predicted)\n",
    "    \n",
    "    rep_outputs = np.stack(rep_list)\n",
    "    #print(rep_outputs.shape)\n",
    "    #print(data.dtype)\n",
    "    \n",
    "    return rep_outputs\n",
    "    #predictions = branch_encoder(data)"
   ]
  },
  {
   "cell_type": "code",
   "execution_count": 45,
   "metadata": {},
   "outputs": [
    {
     "name": "stdout",
     "output_type": "stream",
     "text": [
      "(1000, 10, 3)\n"
     ]
    }
   ],
   "source": [
    "reps = getAllReps(ENCODER_PATH, train_orbits_dataset.data)\n",
    "print(reps.shape)"
   ]
  },
  {
   "cell_type": "code",
   "execution_count": 47,
   "metadata": {},
   "outputs": [
    {
     "name": "stdout",
     "output_type": "stream",
     "text": [
      "(1000, 10, 10, 3)\n"
     ]
    }
   ],
   "source": [
    "diff = reps[:, None, :, :] - reps[:,:,None,:]\n",
    "print(diff.shape)"
   ]
  },
  {
   "cell_type": "code",
   "execution_count": 49,
   "metadata": {},
   "outputs": [
    {
     "name": "stdout",
     "output_type": "stream",
     "text": [
      "(1000, 10, 10)\n"
     ]
    }
   ],
   "source": [
    "dist = np.linalg.norm(diff, axis = -1)\n",
    "print(dist.shape)"
   ]
  },
  {
   "cell_type": "code",
   "execution_count": 50,
   "metadata": {},
   "outputs": [
    {
     "name": "stdout",
     "output_type": "stream",
     "text": [
      "[[0.         0.35812873 0.23275387 0.19955172 0.17220072 0.05948098\n",
      "  0.22461222 0.25387096 0.24438898 0.24700321]\n",
      " [0.35812873 0.         0.559187   0.5387932  0.49472842 0.30208877\n",
      "  0.5608667  0.58459514 0.5716494  0.5659848 ]\n",
      " [0.23275387 0.559187   0.         0.04461134 0.0795669  0.28905088\n",
      "  0.02724911 0.05963776 0.0557178  0.04738912]\n",
      " [0.19955172 0.5387932  0.04461134 0.         0.07184099 0.2575823\n",
      "  0.0256489  0.06600679 0.06187892 0.06821407]\n",
      " [0.17220072 0.49472842 0.0795669  0.07184099 0.         0.22651471\n",
      "  0.08409564 0.12988728 0.12244345 0.11554262]\n",
      " [0.05948098 0.30208877 0.28905088 0.2575823  0.22651471 0.\n",
      "  0.2824235  0.31007305 0.2998499  0.30129555]\n",
      " [0.22461222 0.5608667  0.02724911 0.0256489  0.08409564 0.2824235\n",
      "  0.         0.05169411 0.05085481 0.05541423]\n",
      " [0.25387096 0.58459514 0.05963776 0.06600679 0.12988728 0.31007305\n",
      "  0.05169411 0.         0.01471887 0.03558924]\n",
      " [0.24438898 0.5716494  0.0557178  0.06187892 0.12244345 0.2998499\n",
      "  0.05085481 0.01471887 0.         0.02513655]\n",
      " [0.24700321 0.5659848  0.04738912 0.06821407 0.11554262 0.30129555\n",
      "  0.05541423 0.03558924 0.02513655 0.        ]]\n"
     ]
    }
   ],
   "source": [
    "print(dist[0])"
   ]
  },
  {
   "cell_type": "code",
   "execution_count": 51,
   "metadata": {},
   "outputs": [
    {
     "name": "stdout",
     "output_type": "stream",
     "text": [
      "0.15617680121527777\n"
     ]
    }
   ],
   "source": [
    "print(np.sum(dist)/90000)"
   ]
  },
  {
   "cell_type": "code",
   "execution_count": 54,
   "metadata": {},
   "outputs": [
    {
     "name": "stdout",
     "output_type": "stream",
     "text": [
      "0.14055912\n"
     ]
    }
   ],
   "source": [
    "print(np.mean(dist))"
   ]
  },
  {
   "cell_type": "code",
   "execution_count": null,
   "metadata": {},
   "outputs": [],
   "source": []
  }
 ],
 "metadata": {
  "kernelspec": {
   "display_name": "env",
   "language": "python",
   "name": "env"
  },
  "language_info": {
   "codemirror_mode": {
    "name": "ipython",
    "version": 3
   },
   "file_extension": ".py",
   "mimetype": "text/x-python",
   "name": "python",
   "nbconvert_exporter": "python",
   "pygments_lexer": "ipython3",
   "version": "3.9.13"
  }
 },
 "nbformat": 4,
 "nbformat_minor": 4
}
