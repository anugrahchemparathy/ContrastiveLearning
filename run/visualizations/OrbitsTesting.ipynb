{
 "cells": [
  {
   "cell_type": "code",
   "execution_count": 1,
   "id": "3bdb5fe9",
   "metadata": {},
   "outputs": [],
   "source": [
    "import numpy as np\n",
    "import pandas as pd\n",
    "import torch"
   ]
  },
  {
   "cell_type": "code",
   "execution_count": 2,
   "id": "c504efc3",
   "metadata": {},
   "outputs": [],
   "source": [
    "import matplotlib.pyplot as plt\n",
    "plt.style.use('ggplot')"
   ]
  },
  {
   "cell_type": "code",
   "execution_count": 3,
   "id": "3159ed5e",
   "metadata": {},
   "outputs": [],
   "source": [
    "import sys\n",
    "sys.path.append('../') # now can access entire repository, (important when running locally)"
   ]
  },
  {
   "cell_type": "code",
   "execution_count": 4,
   "id": "c215c89d",
   "metadata": {},
   "outputs": [],
   "source": [
    "#from orbit_datasets import neworbits, versatileorbits, staticorbits\n",
    "from ldcl.data.physics import get_dataset"
   ]
  },
  {
   "cell_type": "code",
   "execution_count": 5,
   "id": "91252b1f",
   "metadata": {},
   "outputs": [],
   "source": [
    "#train_orbits_dataset = versatileorbits.OrbitsDataset()\n",
    "train_orbits_dataset = get_dataset(\"orbit_config_default.json\", \"../saved_datasets\")[0]"
   ]
  },
  {
   "cell_type": "code",
   "execution_count": 6,
   "id": "b74b1323",
   "metadata": {},
   "outputs": [
    {
     "data": {
      "text/plain": [
       "(10240, 10, 4)"
      ]
     },
     "execution_count": 6,
     "metadata": {},
     "output_type": "execute_result"
    }
   ],
   "source": [
    "\"\"\"\n",
    "Dims = (10240, 100, 4) = (numOrbits, numSamples, (posx,posy,momentumx,momentumy))\n",
    "\"\"\"\n",
    "train_orbits_dataset.data.shape"
   ]
  },
  {
   "cell_type": "code",
   "execution_count": 10,
   "id": "be958694",
   "metadata": {},
   "outputs": [
    {
     "data": {
      "text/plain": [
       "[(-5.0, 5.0), (-5.0, 5.0)]"
      ]
     },
     "execution_count": 10,
     "metadata": {},
     "output_type": "execute_result"
    },
    {
     "data": {
      "image/png": "[encoded data removed]",
      "text/plain": [
       "<Figure size 720x576 with 1 Axes>"
      ]
     },
     "metadata": {
      "needs_background": "light"
     },
     "output_type": "display_data"
    }
   ],
   "source": [
    "fig, ax = plt.subplots()\n",
    "for orbit_i in range(1):\n",
    "    ax.scatter(train_orbits_dataset.data[orbit_i,:,0], train_orbits_dataset.data[orbit_i,:,1], alpha=.6) # position\n",
    "#     ax.scatter(train_orbits_dataset.data[orbit_i,:,2], train_orbits_dataset.data[orbit_i,:,3], alpha=.3) # momentum\n",
    "\n",
    "fig.set_size_inches(10, 8, forward=True)\n",
    "ax.set(xlim=(-5, 5), ylim=(-5, 5))"
   ]
  },
  {
   "cell_type": "code",
   "execution_count": null,
   "id": "3efd6236",
   "metadata": {},
   "outputs": [],
   "source": []
  },
  {
   "cell_type": "code",
   "execution_count": null,
   "id": "3d20f7fa",
   "metadata": {},
   "outputs": [],
   "source": []
  }
 ],
 "metadata": {
  "kernelspec": {
   "display_name": "Python 3 (ipykernel)",
   "language": "python",
   "name": "python3"
  },
  "language_info": {
   "codemirror_mode": {
    "name": "ipython",
    "version": 3
   },
   "file_extension": ".py",
   "mimetype": "text/x-python",
   "name": "python",
   "nbconvert_exporter": "python",
   "pygments_lexer": "ipython3",
   "version": "3.10.4"
  },
  "vscode": {
   "interpreter": {
    "hash": "aee8b7b246df8f9039afb4144a1f6fd8d2ca17a180786b69acc140d282b71a49"
   }
  }
 },
 "nbformat": 4,
 "nbformat_minor": 5
}
