{
 "cells": [
  {
   "cell_type": "code",
   "execution_count": 1,
   "metadata": {},
   "outputs": [],
   "source": [
    "import numpy as np\n",
    "import torch\n",
    "from pathlib import Path\n",
    "import os\n",
    "import sys\n",
    "sys.path.append('../')\n",
    "\n",
    "# from orbit_datasets import neworbits, versatileorbits, staticorbits\n",
    "from ldcl.data import neworbits, versatileorbits, staticorbits"
   ]
  },
  {
   "cell_type": "code",
   "execution_count": 2,
   "metadata": {},
   "outputs": [],
   "source": [
    "import matplotlib.pyplot as plt\n",
    "plt.style.use('ggplot')\n",
    "\n",
    "# https://plotly.com/python/creating-and-updating-figures/\n",
    "import plotly.graph_objects as go\n",
    "\n",
    "from mpl_toolkits import mplot3d"
   ]
  },
  {
   "cell_type": "code",
   "execution_count": 3,
   "metadata": {},
   "outputs": [],
   "source": [
    "from ldcl.data import physics"
   ]
  },
  {
   "cell_type": "code",
   "execution_count": 4,
   "metadata": {},
   "outputs": [
    {
     "name": "stdout",
     "output_type": "stream",
     "text": [
      "..\\..\\saved_datasets\\20221213-4\\\n"
     ]
    }
   ],
   "source": [
    "train_orbits_dataset, folder = physics.get_dataset(\"../variance_orbit_config.json\", \"../../saved_datasets\")\n",
    "print(folder)"
   ]
  },
  {
   "cell_type": "code",
   "execution_count": 5,
   "metadata": {},
   "outputs": [],
   "source": [
    "orbits_loader = torch.utils.data.DataLoader(\n",
    "    dataset = train_orbits_dataset,\n",
    "    shuffle = True,\n",
    "    batch_size = 1,\n",
    ")"
   ]
  },
  {
   "cell_type": "code",
   "execution_count": 8,
   "metadata": {},
   "outputs": [],
   "source": [
    "def applyNetworks(locations):\n",
    "    net_list = [torch.load(x, map_location = torch.device('cpu')) for x in locations]\n",
    "    for net in net_list:\n",
    "        net.eval()\n",
    "    \n",
    "    encoder_outputs_list = []\n",
    "    target_values = []\n",
    "\n",
    "    for it, (input1, input2, y) in enumerate(orbits_loader):\n",
    "        out = input1.float()\n",
    "        for f in net_list:\n",
    "            out = f(out)\n",
    "        #predicted_representation = branch_encoder(input1.float()).detach().numpy()[0]\n",
    "        encoder_outputs_list.append(out.detach().numpy()[0])\n",
    "\n",
    "        #append conserved quantities to the end of the representation for plotting, y = (1, )\n",
    "        #[2=phi0,3=energy,4=angular_momentum] discard [0=eccentricity, 1=semimajor_axis]\n",
    "        target_values.append(np.array([y['phi0'].detach().numpy().flatten()[0],\n",
    "                                       y['H'].detach().numpy().flatten()[0],\n",
    "                                       y['L'].detach().numpy().flatten()[0]\n",
    "                                      ]))\n",
    "    encoder_outputs = np.vstack(encoder_outputs_list)\n",
    "    target_values = np.vstack(target_values)\n",
    "\n",
    "    phi0_c_values = target_values[:,0]\n",
    "    energy_c_values = target_values[:,1]\n",
    "    angular_momentum_c_values = target_values[:,2]\n",
    "    \n",
    "    return encoder_outputs, [phi0_c_values, energy_c_values, angular_momentum_c_values]"
   ]
  },
  {
   "cell_type": "code",
   "execution_count": 12,
   "metadata": {},
   "outputs": [
    {
     "name": "stdout",
     "output_type": "stream",
     "text": [
      "..\\saved_models\\simclr_test1\\final_encoder.pt\n",
      "(1000, 3)\n",
      "1000\n"
     ]
    }
   ],
   "source": [
    "ENCODER_PATH = Path(\"../saved_models/simclr_test1/final_encoder.pt\")\n",
    "print(ENCODER_PATH)\n",
    "encoder_outputs, conserved_quantities = applyNetworks([ENCODER_PATH,])\n",
    "annotations = [f'phi_0: {p:.3f}, H: {h:.3f}, L: {l:.3f}' for (p,h,l) in zip(*conserved_quantities)]\n",
    "print(encoder_outputs.shape)\n",
    "print(len(annotations))"
   ]
  },
  {
   "cell_type": "code",
   "execution_count": null,
   "metadata": {},
   "outputs": [],
   "source": []
  }
 ],
 "metadata": {
  "kernelspec": {
   "display_name": "env",
   "language": "python",
   "name": "env"
  },
  "language_info": {
   "codemirror_mode": {
    "name": "ipython",
    "version": 3
   },
   "file_extension": ".py",
   "mimetype": "text/x-python",
   "name": "python",
   "nbconvert_exporter": "python",
   "pygments_lexer": "ipython3",
   "version": "3.9.13"
  }
 },
 "nbformat": 4,
 "nbformat_minor": 4
}
